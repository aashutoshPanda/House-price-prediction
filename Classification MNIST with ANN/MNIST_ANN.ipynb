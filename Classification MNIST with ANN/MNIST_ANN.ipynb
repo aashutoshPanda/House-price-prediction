{
  "nbformat": 4,
  "nbformat_minor": 0,
  "metadata": {
    "colab": {
      "name": "MNIST_ANN.ipynb",
      "provenance": [],
      "authorship_tag": "ABX9TyMqD+ybr0guMzteMO9NvZmO",
      "include_colab_link": true
    },
    "kernelspec": {
      "name": "python3",
      "display_name": "Python 3"
    }
  },
  "cells": [
    {
      "cell_type": "markdown",
      "metadata": {
        "id": "view-in-github",
        "colab_type": "text"
      },
      "source": [
        "<a href=\"https://colab.research.google.com/github/aashutoshPanda/House-price-prediction/blob/master/MNIST_ANN.ipynb\" target=\"_parent\"><img src=\"https://colab.research.google.com/assets/colab-badge.svg\" alt=\"Open In Colab\"/></a>"
      ]
    },
    {
      "cell_type": "markdown",
      "metadata": {
        "id": "LFpYWUJWA_ON"
      },
      "source": [
        "#Basic Imports"
      ]
    },
    {
      "cell_type": "code",
      "metadata": {
        "id": "K0WPY78ZA1Sb"
      },
      "source": [
        "import keras\n",
        "from keras.datasets import mnist\n",
        "from keras.layers import Dense\n",
        "from keras.models import Sequential\n",
        "from matplotlib import pyplot as plt\n",
        "from random import randint\n",
        "import numpy as np"
      ],
      "execution_count": 10,
      "outputs": []
    },
    {
      "cell_type": "markdown",
      "metadata": {
        "id": "R8clXTqNBCkW"
      },
      "source": [
        "#Data Preparation"
      ]
    },
    {
      "cell_type": "markdown",
      "metadata": {
        "id": "3haX6_GODS9C"
      },
      "source": [
        "Getting the data to work on from keras"
      ]
    },
    {
      "cell_type": "code",
      "metadata": {
        "id": "mqocAmzrBHFI"
      },
      "source": [
        "# With this we have our Training & Test data ready\n",
        "(x_train, y_train), (x_test, y_test) = mnist.load_data()"
      ],
      "execution_count": 11,
      "outputs": []
    },
    {
      "cell_type": "markdown",
      "metadata": {
        "id": "gZomFg6KDaiU"
      },
      "source": [
        "We should have an idea of the data on which we are working"
      ]
    },
    {
      "cell_type": "code",
      "metadata": {
        "id": "u1aVzs5pDfpt",
        "outputId": "6b9ab12a-eb6c-4ecf-b117-e4c6bc8a6209",
        "colab": {
          "base_uri": "https://localhost:8080/",
          "height": 0
        }
      },
      "source": [
        "#the dimension of each image is 28 x 28\n",
        "#So have many many matrices of dimension 28 x 28 as our training data\n",
        "image_size = 784 # 28 x 28\n",
        "\n",
        "print(\"original x_train shape\",x_train.shape)"
      ],
      "execution_count": 12,
      "outputs": [
        {
          "output_type": "stream",
          "text": [
            "original x_train shape (60000, 28, 28)\n"
          ],
          "name": "stdout"
        }
      ]
    },
    {
      "cell_type": "markdown",
      "metadata": {
        "id": "Ixtoarw6Eq-x"
      },
      "source": [
        "Let's look at the images that we are provided "
      ]
    },
    {
      "cell_type": "markdown",
      "metadata": {
        "id": "bloQvhZSDHm4"
      },
      "source": [
        "Now we will flatten our images i.e. instead of keeping them as 2D vector of shape 28 x 28 they will be 1D vector of shape (784,)"
      ]
    },
    {
      "cell_type": "code",
      "metadata": {
        "id": "YsePIxDNDCiM",
        "outputId": "b3e9a306-eab3-41fb-9a86-52e606167e71",
        "colab": {
          "base_uri": "https://localhost:8080/",
          "height": 0
        }
      },
      "source": [
        "# no. of images  = x_train.shape[0] because dimension was like (<how_many_matrices>,<no_of_row>,<no_of_column>)\n",
        "print(\"Shape of training data before : \",x_train.shape)\n",
        "\n",
        "x_train = x_train.reshape(x_train.shape[0], image_size) \n",
        "x_test = x_test.reshape(x_test.shape[0], image_size)\n",
        "\n",
        "print(\"Shape of training data after : \",x_train.shape)"
      ],
      "execution_count": 13,
      "outputs": [
        {
          "output_type": "stream",
          "text": [
            "Shape of training data before :  (60000, 28, 28)\n",
            "Shape of training data after :  (60000, 784)\n"
          ],
          "name": "stdout"
        }
      ]
    },
    {
      "cell_type": "markdown",
      "metadata": {
        "id": "XMlhl4plC_61"
      },
      "source": [
        "After having flat images ready we will change the label\n",
        "\n",
        "We have nos. from 0 to 9 to identify i.e. 10 classes\n",
        "The thing with classification problems is that when our models predicts \n",
        "class 5 as class 8 then we can't say it's wrong by 3 places or something like that\n",
        "\n",
        "So in classification we use one hot encoding to make this definite"
      ]
    },
    {
      "cell_type": "code",
      "metadata": {
        "id": "d3fFTCKqC-Op",
        "outputId": "127c402c-1d27-443b-f407-6057fb2c6f66",
        "colab": {
          "base_uri": "https://localhost:8080/",
          "height": 0
        }
      },
      "source": [
        "num_classes = 10 #for images of 0 to 9\n",
        "\n",
        "print(\"Shape of labels before : \",y_train.shape)\n",
        "y_train = keras.utils.to_categorical(y_train, num_classes)\n",
        "y_test = keras.utils.to_categorical(y_test, num_classes)\n",
        "\n",
        "print(\"Shape of labels after : \",y_train.shape)\n"
      ],
      "execution_count": 14,
      "outputs": [
        {
          "output_type": "stream",
          "text": [
            "Shape of labels before :  (60000,)\n",
            "Shape of labels after :  (60000, 10)\n"
          ],
          "name": "stdout"
        }
      ]
    },
    {
      "cell_type": "markdown",
      "metadata": {
        "id": "h3CRjfnxGqxK"
      },
      "source": [
        "# Making ANN"
      ]
    },
    {
      "cell_type": "markdown",
      "metadata": {
        "id": "SOitvPaKIH6q"
      },
      "source": [
        "1.   Input is an image (28 x 28) flattened to 784 so the input layer will have 784 nodes\n",
        "2.   Here we are making ANN with only 1 hidden layer with 32 nodes\n",
        "3.   Also the output layer will have 10 nodes\n",
        "4.   The activation function that we'll be using is sigmoid "
      ]
    },
    {
      "cell_type": "code",
      "metadata": {
        "id": "iCTUsXpeGu2U",
        "outputId": "e2097bb1-015d-423d-da97-f5e4b0c91e58",
        "colab": {
          "base_uri": "https://localhost:8080/",
          "height": 0
        }
      },
      "source": [
        "model = Sequential()\n",
        "\n",
        "#This is the hidden layer\n",
        "model.add(Dense(units=32, activation='sigmoid', input_shape=(image_size,)))\n",
        "#This is the output layer\n",
        "model.add(Dense(units=num_classes, activation='softmax'))\n",
        "model.summary()"
      ],
      "execution_count": 15,
      "outputs": [
        {
          "output_type": "stream",
          "text": [
            "Model: \"sequential_2\"\n",
            "_________________________________________________________________\n",
            "Layer (type)                 Output Shape              Param #   \n",
            "=================================================================\n",
            "dense_4 (Dense)              (None, 32)                25120     \n",
            "_________________________________________________________________\n",
            "dense_5 (Dense)              (None, 10)                330       \n",
            "=================================================================\n",
            "Total params: 25,450\n",
            "Trainable params: 25,450\n",
            "Non-trainable params: 0\n",
            "_________________________________________________________________\n"
          ],
          "name": "stdout"
        }
      ]
    },
    {
      "cell_type": "markdown",
      "metadata": {
        "id": "4ZaMMtYnHljH"
      },
      "source": [
        "The total params that can be changed overtime is 25,450 \n",
        "\n",
        "    Input (784)       Hidden(32)        Output(10)\n",
        "        |               |                |\n",
        "        |               |                |\n",
        "        |               |                |\n",
        "  \n",
        "There will be weight between each of the nodes in Input layer & Hidden layer \n",
        "= 784 * 32 = 25088\n",
        "\n",
        "Similarly there will be weight between each of the nodes in Hidden layer & output layer\n",
        "= 32 * 10 = 320\n",
        "\n",
        "Also each percepton in the hidden layer & the output layer will have 1 bias\n",
        "=32 + 10 = 42\n",
        "\n",
        "\n",
        "Total = 25088 + 320 + 42 = 25450"
      ]
    },
    {
      "cell_type": "markdown",
      "metadata": {
        "id": "6R8z0OPDLBf4"
      },
      "source": [
        "#Training & Testing our model"
      ]
    },
    {
      "cell_type": "markdown",
      "metadata": {
        "id": "NQbZNLd_LdwA"
      },
      "source": [
        "The loss function will be **categorical cross entropy**\n",
        "& the optimisation algorithm to be used will be **Stochastic Gradient Descent (SGD).**"
      ]
    },
    {
      "cell_type": "code",
      "metadata": {
        "id": "e75gPucBHkM-",
        "outputId": "f6d4bc86-e279-4222-c0c3-b0024376a2b7",
        "colab": {
          "base_uri": "https://localhost:8080/",
          "height": 330
        }
      },
      "source": [
        "model.compile(optimizer=\"sgd\", loss='categorical_crossentropy', metrics=['acc'])\n",
        "history = model.fit(x_train, y_train, batch_size=128, epochs=5, verbose=False, validation_split=.1)\n",
        "loss, accuracy  = model.evaluate(x_test, y_test, verbose=False)\n",
        "\n",
        "plt.plot(history.history['acc'])\n",
        "plt.plot(history.history['val_acc'])\n",
        "plt.title('model accuracy')\n",
        "plt.ylabel('accuracy')\n",
        "plt.xlabel('epoch')\n",
        "plt.legend(['training', 'validation'], loc='best')\n",
        "plt.show()\n",
        "\n",
        "print(f'Test loss: {loss:.3}')\n",
        "print(f'Test accuracy: {accuracy:.3}')"
      ],
      "execution_count": 18,
      "outputs": [
        {
          "output_type": "display_data",
          "data": {
            "image/png": "[encoded data removed]",
            "text/plain": [
              "<Figure size 432x288 with 1 Axes>"
            ]
          },
          "metadata": {
            "tags": [],
            "needs_background": "light"
          }
        },
        {
          "output_type": "stream",
          "text": [
            "Test loss: 0.337\n",
            "Test accuracy: 0.91\n"
          ],
          "name": "stdout"
        }
      ]
    },
    {
      "cell_type": "markdown",
      "metadata": {
        "id": "qtrM_PZKHj5S"
      },
      "source": [
        ""
      ]
    }
  ]
}